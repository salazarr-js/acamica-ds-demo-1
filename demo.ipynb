{
 "cells": [
  {
   "attachments": {
    "twitter.png": {
     "image/png": "[encoded data removed]"
    }
   },
   "cell_type": "markdown",
   "metadata": {},
   "source": [
    "# 1er Demo - Data Science\n",
    "## Jose Salazar\n",
    "* ![twitter](./icons/twitter.png) https://twitter.com/salazarr_js\n",
    "* ![github](./icons/github.png) https://github.com/salazarr-js\n",
    "* ![linkedin](./icons/linkedin.png) https://github.com/salazarr-js\n",
    "-----"
   ]
  },
  {
   "cell_type": "markdown",
   "metadata": {},
   "source": [
    "## Contexto\n",
    "\n",
    "loremm"
   ]
  },
  {
   "cell_type": "markdown",
   "metadata": {},
   "source": [
    "## Contenido de columnas\n",
    "\n",
    "- **age:** Edad del beneficiario principal.\n",
    "- **sex:** Sexo del contratista del seguro, `femenino`, `masculino`.\n",
    "- **bmi:** Índice de masa corporal, que proporciona una comprensión del cuerpo, pesos relativamente altos o bajos en relación con la altura, índice objetivo de peso corporal **(kg/m^2)** utilizando la relación de altura a peso.\n",
    "- **children:** Número de niños cubiertos por seguro de salud / Número de dependientes.\n",
    "- **smoker:** Si es fumador.\n",
    "- **region:** El área residencial del beneficiario en US, `northeast`, `southeast`, `southwest`, `northwest`.\n",
    "- **charges:** Costos médicos individuales facturados por el seguro de salud."
   ]
  },
  {
   "cell_type": "markdown",
   "metadata": {},
   "source": [
    "## Importing libs"
   ]
  },
  {
   "cell_type": "code",
   "execution_count": null,
   "metadata": {},
   "outputs": [],
   "source": [
    "# IMPORTs\n",
    "import numpy as np\n",
    "import pandas as pd\n",
    "import matplotlib.pyplot as plt\n",
    "import seaborn as sns\n"
   ]
  },
  {
   "cell_type": "markdown",
   "metadata": {},
   "source": [
    "## Loading dataset"
   ]
  },
  {
   "cell_type": "code",
   "execution_count": null,
   "metadata": {},
   "outputs": [],
   "source": [
    "# LOAD DATASET\n",
    "df = pd.read_csv('insurace.csv', parse_dates = ['created_on'])"
   ]
  }
 ],
 "metadata": {
  "file_extension": ".py",
  "kernelspec": {
   "display_name": "Python 3",
   "language": "python",
   "name": "python3"
  },
  "language_info": {
   "codemirror_mode": {
    "name": "ipython",
    "version": 3
   },
   "file_extension": ".py",
   "mimetype": "text/x-python",
   "name": "python",
   "nbconvert_exporter": "python",
   "pygments_lexer": "ipython3",
   "version": "3.7.6"
  },
  "mimetype": "text/x-python",
  "name": "python",
  "npconvert_exporter": "python",
  "pygments_lexer": "ipython3",
  "version": 3
 },
 "nbformat": 4,
 "nbformat_minor": 2
}